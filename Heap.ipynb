{
  "nbformat": 4,
  "nbformat_minor": 0,
  "metadata": {
    "colab": {
      "name": "Heap.ipynb",
      "provenance": [],
      "authorship_tag": "ABX9TyN0Hz41iTAinyCpbmqBEqqO",
      "include_colab_link": true
    },
    "kernelspec": {
      "name": "python3",
      "display_name": "Python 3"
    }
  },
  "cells": [
    {
      "cell_type": "markdown",
      "metadata": {
        "id": "view-in-github",
        "colab_type": "text"
      },
      "source": [
        "<a href=\"https://colab.research.google.com/github/anujpatel96/Data-Structures/blob/main/Heap.ipynb\" target=\"_parent\"><img src=\"https://colab.research.google.com/assets/colab-badge.svg\" alt=\"Open In Colab\"/></a>"
      ]
    },
    {
      "cell_type": "code",
      "metadata": {
        "colab": {
          "base_uri": "https://localhost:8080/"
        },
        "id": "euXkARdbS8mK",
        "outputId": "d74d3f8b-3916-40e3-e7c7-d2f278ed8c98"
      },
      "source": [
        "arr = [2,3,6,4,8,1,9]\r\n",
        "'''\r\n",
        "        2\r\n",
        "      /   \\\r\n",
        "     3     6\r\n",
        "    / \\   / \\\r\n",
        "   4   8 1   9 \r\n",
        "'''\r\n",
        "\r\n",
        "def heapify(arr,heap_size,index):\r\n",
        "  maximum = index\r\n",
        "  left_index = 2 * index + 1\r\n",
        "  right_index = 2 * index + 2\r\n",
        "\r\n",
        "  if left_index < heap_size and arr[maximum] < arr[left_index]:\r\n",
        "    maximum = left_index\r\n",
        "  if right_index < heap_size and arr[maximum] < arr[right_index]:\r\n",
        "    maximum = right_index  \r\n",
        "  if maximum != index:\r\n",
        "    arr[maximum], arr[index] = arr[index], arr[maximum]\r\n",
        "    return heapify(arr,heap_size,maximum)\r\n",
        "\r\n",
        "def build_heap(arr):\r\n",
        "  size = len(arr)\r\n",
        "  for i in range(size//2 - 1, -1, -1):\r\n",
        "    heapify(arr,size,i)\r\n",
        "  return arr\r\n",
        "\r\n",
        "'''\r\n",
        "        9\r\n",
        "      /   \\\r\n",
        "     8     6\r\n",
        "    / \\   / \\\r\n",
        "   4   3 1   2 \r\n",
        "'''\r\n",
        "\r\n",
        "build_heap(arr)\r\n"
      ],
      "execution_count": 20,
      "outputs": [
        {
          "output_type": "execute_result",
          "data": {
            "text/plain": [
              "[9, 8, 6, 4, 3, 1, 2]"
            ]
          },
          "metadata": {
            "tags": []
          },
          "execution_count": 20
        }
      ]
    }
  ]
}