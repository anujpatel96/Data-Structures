{
  "nbformat": 4,
  "nbformat_minor": 0,
  "metadata": {
    "colab": {
      "name": "Graph.ipynb",
      "provenance": [],
      "authorship_tag": "ABX9TyP/d3EtH2d8mDLW107x9EtI",
      "include_colab_link": true
    },
    "kernelspec": {
      "name": "python3",
      "display_name": "Python 3"
    }
  },
  "cells": [
    {
      "cell_type": "markdown",
      "metadata": {
        "id": "view-in-github",
        "colab_type": "text"
      },
      "source": [
        "<a href=\"https://colab.research.google.com/github/anujpatel96/Data-Structures/blob/main/Graph.ipynb\" target=\"_parent\"><img src=\"https://colab.research.google.com/assets/colab-badge.svg\" alt=\"Open In Colab\"/></a>"
      ]
    },
    {
      "cell_type": "code",
      "metadata": {
        "colab": {
          "base_uri": "https://localhost:8080/"
        },
        "id": "OMyVyr1WDgdg",
        "outputId": "88cb3a27-ec5b-4362-f6b8-b4cac36c6ab0"
      },
      "source": [
        "class Graph():\r\n",
        "  def __init__(self,edges):\r\n",
        "    self.edges = edges\r\n",
        "    self.graph_dict = {}\r\n",
        "\r\n",
        "    for start,end in self.edges:\r\n",
        "      if start in self.graph_dict:\r\n",
        "        self.graph_dict[start].append(end)\r\n",
        "      else:\r\n",
        "        self.graph_dict[start] = [end]\r\n",
        "    print (self.graph_dict)\r\n",
        "\r\n",
        "  def get_paths(self, start, end, path= []):\r\n",
        "    path = path + [start]\r\n",
        "\r\n",
        "    if start == end:\r\n",
        "      return [path]\r\n",
        "\r\n",
        "    if start not in self.graph_dict:\r\n",
        "      return []\r\n",
        "    \r\n",
        "    paths = []\r\n",
        "    for node in self.graph_dict[start]:\r\n",
        "      if node not in path:\r\n",
        "        new_paths = self.get_paths(node, end, path)\r\n",
        "        for p in new_paths:\r\n",
        "          paths.append(p)\r\n",
        "    return paths\r\n",
        "\r\n",
        "  def get_shortest_path(self, start, end):\r\n",
        "    total_paths = self.get_paths(start,end)\r\n",
        "    shortest_paths = []\r\n",
        "    for i in total_paths:\r\n",
        "      if len(i) == len(min(total_paths)):\r\n",
        "        shortest_paths.append(i)\r\n",
        "        \r\n",
        "    return shortest_paths\r\n",
        "    \r\n",
        "if __name__ == '__main__':\r\n",
        "  routes = [\r\n",
        "        (\"Mumbai\", \"Paris\"),\r\n",
        "        (\"Mumbai\", \"Dubai\"),\r\n",
        "        (\"Paris\", \"Dubai\"),\r\n",
        "        (\"Paris\", \"New York\"),\r\n",
        "        (\"Dubai\", \"New York\"),\r\n",
        "        (\"New York\", \"Toronto\"),\r\n",
        "            ]\r\n",
        "  root_graph = Graph(routes)\r\n",
        "\r\n",
        "  start = \"Mumbai\"\r\n",
        "  end = \"New York\"\r\n",
        "\r\n",
        "  print(f\"Path between {start} and {end}:\",root_graph.get_paths(start, end))\r\n",
        "  print(f\"Shortest Path between {start} and {end}:\",root_graph.get_shortest_path(start, end))\r\n"
      ],
      "execution_count": null,
      "outputs": [
        {
          "output_type": "stream",
          "text": [
            "{'Mumbai': ['Paris', 'Dubai'], 'Paris': ['Dubai', 'New York'], 'Dubai': ['New York'], 'New York': ['Toronto']}\n",
            "Path between Mumbai and New York: [['Mumbai', 'Paris', 'Dubai', 'New York'], ['Mumbai', 'Paris', 'New York'], ['Mumbai', 'Dubai', 'New York']]\n",
            "Shortest Path between Mumbai and New York: [['Mumbai', 'Paris', 'New York'], ['Mumbai', 'Dubai', 'New York']]\n"
          ],
          "name": "stdout"
        }
      ]
    }
  ]
}