{
  "nbformat": 4,
  "nbformat_minor": 0,
  "metadata": {
    "colab": {
      "name": "Stack - with min() O(1).ipynb",
      "provenance": [],
      "authorship_tag": "ABX9TyPFxoYx8GgF2Gwqhp5Z/UOJ",
      "include_colab_link": true
    },
    "kernelspec": {
      "name": "python3",
      "display_name": "Python 3"
    }
  },
  "cells": [
    {
      "cell_type": "markdown",
      "metadata": {
        "id": "view-in-github",
        "colab_type": "text"
      },
      "source": [
        "<a href=\"https://colab.research.google.com/github/anujpatel96/Data-Structures/blob/main/Stack_with_min()_O(1).ipynb\" target=\"_parent\"><img src=\"https://colab.research.google.com/assets/colab-badge.svg\" alt=\"Open In Colab\"/></a>"
      ]
    },
    {
      "cell_type": "markdown",
      "metadata": {
        "id": "neA3UKwh5u_c"
      },
      "source": [
        "### **In addtion to push(), pop() and peek(), Design a Stack which has min() function which returns the minimum value in Stack in same time O(1).**"
      ]
    },
    {
      "cell_type": "code",
      "metadata": {
        "colab": {
          "base_uri": "https://localhost:8080/"
        },
        "id": "dSHkTpVAlIwS",
        "outputId": "375bb6f0-f246-4ce4-ea39-fa2cfad38425"
      },
      "source": [
        "class Stack():\r\n",
        "  def __init__(self):\r\n",
        "    self.arr = []\r\n",
        "    self.min_arr = []\r\n",
        "\r\n",
        "  def push(self,value):\r\n",
        "    self.arr.append(value)\r\n",
        "    if self.min_arr == [] or self.min_arr[-1] > value:\r\n",
        "      self.min_arr.append(value)\r\n",
        "      return\r\n",
        "    \r\n",
        "  def pop(self):\r\n",
        "    if self.arr == []:\r\n",
        "      raise Exception(\"Stack is Empty\")\r\n",
        "      return\r\n",
        "    if self.arr[-1] == self.min_arr[-1]:\r\n",
        "      self.arr.pop()\r\n",
        "      self.min_arr.pop()\r\n",
        "      return\r\n",
        "    else:\r\n",
        "      self.arr.pop()\r\n",
        "      return\r\n",
        "\r\n",
        "  def peek(self):\r\n",
        "    return self.arr[-1]\r\n",
        "\r\n",
        "  def min(self):\r\n",
        "    return self.min_arr[-1]\r\n",
        "\r\n",
        "  def print(self):\r\n",
        "    print(\"Stack:\", self.arr)\r\n",
        "\r\n",
        "if __name__ == \"__main__\":\r\n",
        "  stack  = Stack()\r\n",
        "  stack.push(5)\r\n",
        "  stack.push(4)\r\n",
        "  stack.push(6)\r\n",
        "  stack.push(2)\r\n",
        "  stack.push(3)\r\n",
        "  stack.push(1)\r\n",
        "\r\n",
        "  stack.print()\r\n",
        "  print(\"Minimum value is Stack is:\", stack.min())\r\n",
        "  print()\r\n",
        "\r\n",
        "  stack.pop()\r\n",
        "  stack.print()\r\n",
        "  print(\"Minimum value is Stack is:\", stack.min())\r\n",
        "  print()\r\n",
        "\r\n",
        "  stack.pop()\r\n",
        "  stack.print()\r\n",
        "  print(\"Minimum value is Stack is:\", stack.min())\r\n",
        "  print()\r\n",
        "\r\n",
        "  stack.pop()\r\n",
        "  stack.print()\r\n",
        "  print(\"Minimum value is Stack is:\", stack.min())\r\n",
        "  print()\r\n",
        "\r\n",
        "  stack.pop()\r\n",
        "  stack.print()\r\n",
        "  print(\"Minimum value is Stack is:\", stack.min())\r\n",
        "  print()\r\n",
        "\r\n",
        "  stack.pop()\r\n",
        "  stack.print()\r\n",
        "  print(\"Minimum value is Stack is:\", stack.min())\r\n",
        "\r\n",
        "  stack.pop()\r\n"
      ],
      "execution_count": 31,
      "outputs": [
        {
          "output_type": "stream",
          "text": [
            "Stack: [5, 4, 6, 2, 3, 1]\n",
            "Minimum value is Stack is: 1\n",
            "\n",
            "Stack: [5, 4, 6, 2, 3]\n",
            "Minimum value is Stack is: 2\n",
            "\n",
            "Stack: [5, 4, 6, 2]\n",
            "Minimum value is Stack is: 2\n",
            "\n",
            "Stack: [5, 4, 6]\n",
            "Minimum value is Stack is: 4\n",
            "\n",
            "Stack: [5, 4]\n",
            "Minimum value is Stack is: 4\n",
            "\n",
            "Stack: [5]\n",
            "Minimum value is Stack is: 5\n"
          ],
          "name": "stdout"
        }
      ]
    }
  ]
}