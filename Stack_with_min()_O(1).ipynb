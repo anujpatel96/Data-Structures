{
  "nbformat": 4,
  "nbformat_minor": 0,
  "metadata": {
    "colab": {
      "name": "Stack - with min() O(1).ipynb",
      "provenance": [],
      "authorship_tag": "ABX9TyMdHscr6CdjAwYfvCjn+d8r",
      "include_colab_link": true
    },
    "kernelspec": {
      "name": "python3",
      "display_name": "Python 3"
    }
  },
  "cells": [
    {
      "cell_type": "markdown",
      "metadata": {
        "id": "view-in-github",
        "colab_type": "text"
      },
      "source": [
        "<a href=\"https://colab.research.google.com/github/anujpatel96/Data-Structures/blob/main/Stack_with_min()_O(1).ipynb\" target=\"_parent\"><img src=\"https://colab.research.google.com/assets/colab-badge.svg\" alt=\"Open In Colab\"/></a>"
      ]
    },
    {
      "cell_type": "markdown",
      "metadata": {
        "id": "neA3UKwh5u_c"
      },
      "source": [
        "### **In addtion to push(), pop() and peek(), Design a Stack which has min() function which returns the minimum value in Stack in same time O(1).**"
      ]
    },
    {
      "cell_type": "code",
      "metadata": {
        "colab": {
          "base_uri": "https://localhost:8080/"
        },
        "id": "dSHkTpVAlIwS",
        "outputId": "375bb6f0-f246-4ce4-ea39-fa2cfad38425"
      },
      "source": [
        "class Stack():\n",
        "  def __init__(self):\n",
        "    self.arr = []\n",
        "    self.min_arr = []\n",
        "\n",
        "  def push(self,value):\n",
        "    self.arr.append(value)\n",
        "    if self.min_arr == [] or self.min_arr[-1] > value:\n",
        "      self.min_arr.append(value)\n",
        "      return\n",
        "    \n",
        "  def pop(self):\n",
        "    if self.arr == []:\n",
        "      raise Exception(\"Stack is Empty\")\n",
        "      return\n",
        "    if self.arr[-1] == self.min_arr[-1]:\n",
        "      self.arr.pop()\n",
        "      self.min_arr.pop()\n",
        "      return\n",
        "    else:\n",
        "      self.arr.pop()\n",
        "      return\n",
        "\n",
        "  def peek(self):\n",
        "    return self.arr[-1]\n",
        "\n",
        "  def min(self):\n",
        "    return self.min_arr[-1]\n",
        "\n",
        "  def print(self):\n",
        "    print(\"Stack:\", self.arr)\n",
        "\n",
        "if __name__ == \"__main__\":\n",
        "  stack  = Stack()\n",
        "  stack.push(5)\n",
        "  stack.push(4)\n",
        "  stack.push(6)\n",
        "  stack.push(2)\n",
        "  stack.push(3)\n",
        "  stack.push(1)\n",
        "\n",
        "  stack.print()\n",
        "  print(\"Minimum value is Stack is:\", stack.min())\n",
        "  print()\n",
        "\n",
        "  stack.pop()\n",
        "  stack.print()\n",
        "  print(\"Minimum value is Stack is:\", stack.min())\n",
        "  print()\n",
        "\n",
        "  stack.pop()\n",
        "  stack.print()\n",
        "  print(\"Minimum value is Stack is:\", stack.min())\n",
        "  print()\n",
        "\n",
        "  stack.pop()\n",
        "  stack.print()\n",
        "  print(\"Minimum value is Stack is:\", stack.min())\n",
        "  print()\n",
        "\n",
        "  stack.pop()\n",
        "  stack.print()\n",
        "  print(\"Minimum value is Stack is:\", stack.min())\n",
        "  print()\n",
        "\n",
        "  stack.pop()\n",
        "  stack.print()\n",
        "  print(\"Minimum value is Stack is:\", stack.min())\n",
        "\n",
        "  stack.pop()\n"
      ],
      "execution_count": null,
      "outputs": [
        {
          "output_type": "stream",
          "text": [
            "Stack: [5, 4, 6, 2, 3, 1]\n",
            "Minimum value is Stack is: 1\n",
            "\n",
            "Stack: [5, 4, 6, 2, 3]\n",
            "Minimum value is Stack is: 2\n",
            "\n",
            "Stack: [5, 4, 6, 2]\n",
            "Minimum value is Stack is: 2\n",
            "\n",
            "Stack: [5, 4, 6]\n",
            "Minimum value is Stack is: 4\n",
            "\n",
            "Stack: [5, 4]\n",
            "Minimum value is Stack is: 4\n",
            "\n",
            "Stack: [5]\n",
            "Minimum value is Stack is: 5\n"
          ],
          "name": "stdout"
        }
      ]
    }
  ]
}